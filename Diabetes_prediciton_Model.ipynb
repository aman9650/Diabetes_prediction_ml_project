{
 "cells": [
  {
   "cell_type": "code",
   "execution_count": 26,
   "id": "787867b5",
   "metadata": {},
   "outputs": [],
   "source": [
    "import numpy as np\n",
    "import pandas as pd\n",
    "import matplotlib.pyplot as plt\n",
    "import seaborn as sns\n",
    "from sklearn.preprocessing import StandardScaler\n",
    "from sklearn.model_selection import train_test_split\n",
    "from sklearn import svm\n",
    "from sklearn.metrics import accuracy_score\n",
    "import sketch \n",
    "import warnings\n",
    "warnings.filterwarnings(\"ignore\")"
   ]
  },
  {
   "cell_type": "code",
   "execution_count": 27,
   "id": "4dd39d2c",
   "metadata": {},
   "outputs": [],
   "source": [
    "data=pd.read_csv(\"clean_data.csv\")"
   ]
  },
  {
   "cell_type": "code",
   "execution_count": 28,
   "id": "ded7df7e",
   "metadata": {},
   "outputs": [],
   "source": [
    "data=data.drop(columns=['Unnamed: 0'])"
   ]
  },
  {
   "cell_type": "code",
   "execution_count": 29,
   "id": "012293c7",
   "metadata": {},
   "outputs": [
    {
     "data": {
      "text/html": [
       "<div>\n",
       "<style scoped>\n",
       "    .dataframe tbody tr th:only-of-type {\n",
       "        vertical-align: middle;\n",
       "    }\n",
       "\n",
       "    .dataframe tbody tr th {\n",
       "        vertical-align: top;\n",
       "    }\n",
       "\n",
       "    .dataframe thead th {\n",
       "        text-align: right;\n",
       "    }\n",
       "</style>\n",
       "<table border=\"1\" class=\"dataframe\">\n",
       "  <thead>\n",
       "    <tr style=\"text-align: right;\">\n",
       "      <th></th>\n",
       "      <th>Pregnancies</th>\n",
       "      <th>Glucose</th>\n",
       "      <th>BloodPressure</th>\n",
       "      <th>SkinThickness</th>\n",
       "      <th>Insulin</th>\n",
       "      <th>BMI</th>\n",
       "      <th>DiabetesPedigreeFunction</th>\n",
       "      <th>Age</th>\n",
       "      <th>Outcome</th>\n",
       "    </tr>\n",
       "  </thead>\n",
       "  <tbody>\n",
       "    <tr>\n",
       "      <th>0</th>\n",
       "      <td>6</td>\n",
       "      <td>148</td>\n",
       "      <td>72</td>\n",
       "      <td>35</td>\n",
       "      <td>0</td>\n",
       "      <td>33.6</td>\n",
       "      <td>0.627</td>\n",
       "      <td>50</td>\n",
       "      <td>1</td>\n",
       "    </tr>\n",
       "    <tr>\n",
       "      <th>1</th>\n",
       "      <td>1</td>\n",
       "      <td>85</td>\n",
       "      <td>66</td>\n",
       "      <td>29</td>\n",
       "      <td>0</td>\n",
       "      <td>26.6</td>\n",
       "      <td>0.351</td>\n",
       "      <td>31</td>\n",
       "      <td>0</td>\n",
       "    </tr>\n",
       "    <tr>\n",
       "      <th>2</th>\n",
       "      <td>8</td>\n",
       "      <td>183</td>\n",
       "      <td>64</td>\n",
       "      <td>0</td>\n",
       "      <td>0</td>\n",
       "      <td>23.3</td>\n",
       "      <td>0.672</td>\n",
       "      <td>32</td>\n",
       "      <td>1</td>\n",
       "    </tr>\n",
       "    <tr>\n",
       "      <th>3</th>\n",
       "      <td>1</td>\n",
       "      <td>89</td>\n",
       "      <td>66</td>\n",
       "      <td>23</td>\n",
       "      <td>94</td>\n",
       "      <td>28.1</td>\n",
       "      <td>0.167</td>\n",
       "      <td>21</td>\n",
       "      <td>0</td>\n",
       "    </tr>\n",
       "    <tr>\n",
       "      <th>4</th>\n",
       "      <td>0</td>\n",
       "      <td>137</td>\n",
       "      <td>40</td>\n",
       "      <td>35</td>\n",
       "      <td>168</td>\n",
       "      <td>43.1</td>\n",
       "      <td>2.288</td>\n",
       "      <td>33</td>\n",
       "      <td>1</td>\n",
       "    </tr>\n",
       "  </tbody>\n",
       "</table>\n",
       "</div>"
      ],
      "text/plain": [
       "   Pregnancies  Glucose  BloodPressure  SkinThickness  Insulin   BMI  \\\n",
       "0            6      148             72             35        0  33.6   \n",
       "1            1       85             66             29        0  26.6   \n",
       "2            8      183             64              0        0  23.3   \n",
       "3            1       89             66             23       94  28.1   \n",
       "4            0      137             40             35      168  43.1   \n",
       "\n",
       "   DiabetesPedigreeFunction  Age  Outcome  \n",
       "0                     0.627   50        1  \n",
       "1                     0.351   31        0  \n",
       "2                     0.672   32        1  \n",
       "3                     0.167   21        0  \n",
       "4                     2.288   33        1  "
      ]
     },
     "execution_count": 29,
     "metadata": {},
     "output_type": "execute_result"
    }
   ],
   "source": [
    "data.head()"
   ]
  },
  {
   "cell_type": "code",
   "execution_count": 30,
   "id": "aa2c02c8",
   "metadata": {
    "scrolled": true
   },
   "outputs": [
    {
     "data": {
      "text/html": [
       "\n",
       "data.groupby('Outcome').mean()\n"
      ],
      "text/plain": [
       "<IPython.core.display.HTML object>"
      ]
     },
     "metadata": {},
     "output_type": "display_data"
    }
   ],
   "source": [
    "data.sketch.ask(\"how to group outcome with mean of each columns\")"
   ]
  },
  {
   "cell_type": "markdown",
   "id": "76ec126d",
   "metadata": {},
   "source": [
    "### Using RFE for Feature Selection"
   ]
  },
  {
   "cell_type": "code",
   "execution_count": 31,
   "id": "0f71213f",
   "metadata": {},
   "outputs": [],
   "source": [
    "from sklearn.feature_selection import RFE"
   ]
  },
  {
   "cell_type": "code",
   "execution_count": 32,
   "id": "3e91d94d",
   "metadata": {},
   "outputs": [],
   "source": [
    "X=data.drop('Outcome',axis=1)"
   ]
  },
  {
   "cell_type": "code",
   "execution_count": 33,
   "id": "a8e9ce1d",
   "metadata": {},
   "outputs": [],
   "source": [
    "Y=data['Outcome']"
   ]
  },
  {
   "cell_type": "code",
   "execution_count": 34,
   "id": "ea64782a",
   "metadata": {},
   "outputs": [
    {
     "name": "stdout",
     "output_type": "stream",
     "text": [
      "Pregnancies: 1\n",
      "Glucose: 3\n",
      "BloodPressure: 5\n",
      "SkinThickness: 6\n",
      "Insulin: 7\n",
      "BMI: 2\n",
      "DiabetesPedigreeFunction: 1\n",
      "Age: 4\n"
     ]
    }
   ],
   "source": [
    "from sklearn.feature_selection import RFE\n",
    "from sklearn.linear_model import LogisticRegression\n",
    "\n",
    "# Create a Linear Regression model\n",
    "model = LogisticRegression()\n",
    "\n",
    "# Create the RFE object with the Linear Regression model and specify the desired number of features\n",
    "rfe = RFE(estimator=model, n_features_to_select=2)\n",
    "\n",
    "# Fit the RFE object to the scaled data\n",
    "rfe.fit(X, Y)\n",
    "\n",
    "# Print the rankings of the selected features\n",
    "feature_rankings = rfe.ranking_\n",
    "for feature, rank in zip(X.columns, feature_rankings):\n",
    "    print(f\"{feature}: {rank}\")"
   ]
  },
  {
   "cell_type": "markdown",
   "id": "1ae7e6b6",
   "metadata": {},
   "source": [
    "## Using ch-square test for feature selection"
   ]
  },
  {
   "cell_type": "raw",
   "id": "77e12870",
   "metadata": {},
   "source": [
    "Univariate Feature Selection:\n",
    "\n",
    "1. Chi-square test: This test is used to evaluate the dependency between each feature and the target variable, assuming the features are categorical.\n",
    "2. ANOVA F-test: This test is used when the features are continuous and the target variable is categorical."
   ]
  },
  {
   "cell_type": "code",
   "execution_count": 35,
   "id": "f29e7a52",
   "metadata": {},
   "outputs": [],
   "source": [
    "from sklearn.feature_selection import SelectKBest, chi2, f_classif"
   ]
  },
  {
   "cell_type": "code",
   "execution_count": 36,
   "id": "0d23403d",
   "metadata": {},
   "outputs": [],
   "source": [
    "# Perform Chi-square test for feature selection\n",
    "chi2_selector = SelectKBest(chi2, k='all')\n",
    "chi2_selector.fit(X, Y)\n",
    "\n",
    "# Get the p-values and feature scores from the Chi-square test\n",
    "p_values = chi2_selector.pvalues_\n",
    "feature_scores = -np.log10(p_values)\n",
    "\n",
    "# Rank the features based on their scores\n",
    "feature_ranking_chi2 = pd.DataFrame({'Feature': X.columns, 'Score': feature_scores}).sort_values('Score', ascending=False)"
   ]
  },
  {
   "cell_type": "code",
   "execution_count": 37,
   "id": "373c0a2b",
   "metadata": {},
   "outputs": [
    {
     "data": {
      "text/html": [
       "<div>\n",
       "<style scoped>\n",
       "    .dataframe tbody tr th:only-of-type {\n",
       "        vertical-align: middle;\n",
       "    }\n",
       "\n",
       "    .dataframe tbody tr th {\n",
       "        vertical-align: top;\n",
       "    }\n",
       "\n",
       "    .dataframe thead th {\n",
       "        text-align: right;\n",
       "    }\n",
       "</style>\n",
       "<table border=\"1\" class=\"dataframe\">\n",
       "  <thead>\n",
       "    <tr style=\"text-align: right;\">\n",
       "      <th></th>\n",
       "      <th>Feature</th>\n",
       "      <th>Score</th>\n",
       "    </tr>\n",
       "  </thead>\n",
       "  <tbody>\n",
       "    <tr>\n",
       "      <th>4</th>\n",
       "      <td>Insulin</td>\n",
       "      <td>inf</td>\n",
       "    </tr>\n",
       "    <tr>\n",
       "      <th>1</th>\n",
       "      <td>Glucose</td>\n",
       "      <td>307.366373</td>\n",
       "    </tr>\n",
       "    <tr>\n",
       "      <th>7</th>\n",
       "      <td>Age</td>\n",
       "      <td>38.049379</td>\n",
       "    </tr>\n",
       "    <tr>\n",
       "      <th>5</th>\n",
       "      <td>BMI</td>\n",
       "      <td>28.075639</td>\n",
       "    </tr>\n",
       "    <tr>\n",
       "      <th>0</th>\n",
       "      <td>Pregnancies</td>\n",
       "      <td>24.813081</td>\n",
       "    </tr>\n",
       "    <tr>\n",
       "      <th>3</th>\n",
       "      <td>SkinThickness</td>\n",
       "      <td>9.293192</td>\n",
       "    </tr>\n",
       "    <tr>\n",
       "      <th>2</th>\n",
       "      <td>BloodPressure</td>\n",
       "      <td>4.377498</td>\n",
       "    </tr>\n",
       "    <tr>\n",
       "      <th>6</th>\n",
       "      <td>DiabetesPedigreeFunction</td>\n",
       "      <td>1.660187</td>\n",
       "    </tr>\n",
       "  </tbody>\n",
       "</table>\n",
       "</div>"
      ],
      "text/plain": [
       "                    Feature       Score\n",
       "4                   Insulin         inf\n",
       "1                   Glucose  307.366373\n",
       "7                       Age   38.049379\n",
       "5                       BMI   28.075639\n",
       "0               Pregnancies   24.813081\n",
       "3             SkinThickness    9.293192\n",
       "2             BloodPressure    4.377498\n",
       "6  DiabetesPedigreeFunction    1.660187"
      ]
     },
     "execution_count": 37,
     "metadata": {},
     "output_type": "execute_result"
    }
   ],
   "source": [
    "feature_ranking_chi2"
   ]
  },
  {
   "cell_type": "raw",
   "id": "65f7fb53",
   "metadata": {},
   "source": [
    "\n",
    "1. Glucose: The feature \"Glucose\" has a score of 307.366373, indicating that it is highly significant and has a strong association with the target variable in the dataset.\n",
    "\n",
    "2. Insulin: The feature \"Insulin\" has a score of infinity (inf), which means it has the highest score and is considered highly significant and strongly associated with the target variable in the dataset.\n",
    "\n",
    "3. Age: The feature \"Age\" has a score of 38.049379, indicating that it is highly significant and has a strong association with the target variable.\n",
    "\n",
    "# These 3 has nost significant in case of chisquare "
   ]
  },
  {
   "cell_type": "markdown",
   "id": "9e98362a",
   "metadata": {},
   "source": [
    "## Model Scaling"
   ]
  },
  {
   "cell_type": "code",
   "execution_count": 38,
   "id": "95a8d996",
   "metadata": {},
   "outputs": [],
   "source": [
    "selected_columns = ['Insulin','Glucose','Age']\n",
    "selected_data = data[selected_columns]\n",
    "\n",
    "from sklearn.preprocessing import StandardScaler\n",
    "# Scale the selected columns using StandardScaler\n",
    "scaler = StandardScaler()\n",
    "scaled_data = scaler.fit_transform(selected_data)\n"
   ]
  },
  {
   "cell_type": "code",
   "execution_count": 39,
   "id": "c1df776a",
   "metadata": {},
   "outputs": [],
   "source": [
    "#X=data[['Insulin','Glucose','Age']]\n",
    "X=scaled_data\n",
    "Y=data['Outcome']"
   ]
  },
  {
   "cell_type": "markdown",
   "id": "54f5a2f5",
   "metadata": {},
   "source": [
    "### Model"
   ]
  },
  {
   "cell_type": "code",
   "execution_count": 40,
   "id": "9a015cd7",
   "metadata": {},
   "outputs": [],
   "source": [
    "# Split the data into training and testing sets\n",
    "X_train, X_test, y_train, y_test = train_test_split(X, Y, test_size=0.2)"
   ]
  },
  {
   "cell_type": "raw",
   "id": "fc5830db",
   "metadata": {},
   "source": [
    "1.Precision:\n",
    "\n",
    "For class 0 (the negative class), the precision is 0.76, indicating that out of all instances predicted as negative, 76% are actually negative.\n",
    "For class 1 (the positive class), the precision is 0.71, meaning that out of all instances predicted as positive, 71% are actually positive.\n",
    "\n",
    "2. Recall:\n",
    "\n",
    "For class 0, the recall (also known as sensitivity or true positive rate) is 0.90, indicating that the model correctly identifies 90% of the actual negative instances.\n",
    "For class 1, the recall is 0.45, meaning that the model identifies 45% of the actual positive instances.\n",
    "\n",
    "2.F1-Score:\n",
    "\n",
    "The F1-score provides a balance between precision and recall. For class 0, the F1-score is 0.82, and for class 1, the F1-score is 0.55.\n",
    "\n",
    "3.Accuracy:\n",
    "\n",
    "The overall accuracy of the model is 0.75, which means that 75% of the predictions are correct.\n",
    "\n",
    "3.Confusion Matrix:\n",
    "\n",
    "The confusion matrix shows the number of true negatives (90), false positives (10), false negatives (29), and true positives (24).\n",
    "\n",
    "4.ROC AUC Score:\n",
    "\n",
    "The ROC AUC score is 0.6764, indicating that the model has a moderate ability to distinguish between the positive and negative classes. The higher the ROC AUC score, the better the model's performance."
   ]
  },
  {
   "cell_type": "markdown",
   "id": "62de6f2b",
   "metadata": {},
   "source": [
    "### Applying different algorithms"
   ]
  },
  {
   "cell_type": "code",
   "execution_count": 41,
   "id": "6855d080",
   "metadata": {},
   "outputs": [],
   "source": [
    "from sklearn.naive_bayes import GaussianNB\n",
    "from sklearn.neighbors import KNeighborsClassifier\n",
    "from sklearn.svm import SVC"
   ]
  },
  {
   "cell_type": "code",
   "execution_count": 42,
   "id": "ef22c434",
   "metadata": {
    "scrolled": true
   },
   "outputs": [
    {
     "name": "stdout",
     "output_type": "stream",
     "text": [
      "Random Forest Accuracy: 0.7712418300653595\n",
      "k-Nearest Neighbors Accuracy: 0.7058823529411765\n",
      "Naive Bayes Accuracy: 0.7777777777777778\n"
     ]
    }
   ],
   "source": [
    "from sklearn.ensemble import RandomForestClassifier\n",
    "\n",
    "# Random Forest\n",
    "random_forest = RandomForestClassifier()\n",
    "random_forest.fit(X_train, y_train)\n",
    "random_forest_predictions = random_forest.predict(X_test)\n",
    "random_forest_accuracy = accuracy_score(y_test, random_forest_predictions)\n",
    "\n",
    "print(\"Random Forest Accuracy:\", random_forest_accuracy)\n",
    "\n",
    "\n",
    "# k-Nearest Neighbors -- \n",
    "knn = KNeighborsClassifier()\n",
    "knn.fit(X_train, y_train)\n",
    "knn_predictions = knn.predict(X_test)\n",
    "knn_accuracy = accuracy_score(y_test, knn_predictions)\n",
    "print(\"k-Nearest Neighbors Accuracy:\", knn_accuracy)\n",
    "\n",
    "# Support Vector Machines -- 699\n",
    "\n",
    "\n",
    "# Naive Bayes\n",
    "model = GaussianNB()\n",
    "model.fit(X_train, y_train)\n",
    "naive_bayes_predictions = model.predict(X_test)\n",
    "naive_bayes_accuracy = accuracy_score(y_test, naive_bayes_predictions)\n",
    "print(\"Naive Bayes Accuracy:\", naive_bayes_accuracy)\n"
   ]
  },
  {
   "cell_type": "code",
   "execution_count": 43,
   "id": "4e1b2384",
   "metadata": {},
   "outputs": [
    {
     "name": "stdout",
     "output_type": "stream",
     "text": [
      "Accuracy: 0.7712418300653595\n"
     ]
    }
   ],
   "source": [
    "\n",
    "\n",
    "\n",
    "# Create a Linear Regression model\n",
    "model = LogisticRegression()\n",
    "\n",
    "# Fit the model to the training data\n",
    "model.fit(X_train, y_train)\n",
    "\n",
    "# Predict on the testing data\n",
    "y_pred = model.predict(X_test)\n",
    "\n",
    "accuracy = accuracy_score(y_test, y_pred)\n",
    "\n",
    "# Print the accuracy score\n",
    "print(\"Accuracy:\", accuracy)"
   ]
  },
  {
   "cell_type": "markdown",
   "id": "cabef504",
   "metadata": {},
   "source": [
    "### Checking if predcition are correct or not"
   ]
  },
  {
   "cell_type": "code",
   "execution_count": 44,
   "id": "58ff7374",
   "metadata": {},
   "outputs": [
    {
     "name": "stdout",
     "output_type": "stream",
     "text": [
      "              precision    recall  f1-score   support\n",
      "\n",
      "           0       0.80      0.87      0.83       100\n",
      "           1       0.70      0.58      0.64        53\n",
      "\n",
      "    accuracy                           0.77       153\n",
      "   macro avg       0.75      0.73      0.74       153\n",
      "weighted avg       0.77      0.77      0.77       153\n",
      "\n",
      "[[87 13]\n",
      " [22 31]]\n",
      "ROC AUC Score: 0.7274528301886793\n"
     ]
    }
   ],
   "source": [
    "from sklearn.metrics import classification_report, confusion_matrix, roc_auc_score\n",
    "\n",
    "# Calculate and print the classification report\n",
    "print(classification_report(y_test, y_pred))\n",
    "\n",
    "# Calculate and print the confusion matrix\n",
    "print(confusion_matrix(y_test, y_pred))\n",
    "\n",
    "# Calculate the ROC AUC score\n",
    "auc_score = roc_auc_score(y_test, y_pred)\n",
    "print(\"ROC AUC Score:\", auc_score)"
   ]
  },
  {
   "cell_type": "markdown",
   "id": "68fa76da",
   "metadata": {},
   "source": [
    "### Using Roc Curve"
   ]
  },
  {
   "cell_type": "code",
   "execution_count": 45,
   "id": "23490473",
   "metadata": {},
   "outputs": [
    {
     "data": {
      "image/png": "[encoded data removed]",
      "text/plain": [
       "<Figure size 640x480 with 1 Axes>"
      ]
     },
     "metadata": {},
     "output_type": "display_data"
    }
   ],
   "source": [
    "import matplotlib.pyplot as plt\n",
    "from sklearn.metrics import roc_curve, roc_auc_score\n",
    "\n",
    "# Assuming you have the true labels y_test and the predicted class labels y_test_pred\n",
    "\n",
    "# Calculate the predicted probabilities for the positive class\n",
    "y_scores = model.predict_proba(X_test)[:, 1]  ### X_test as all features\n",
    "\n",
    "# Calculate the false positive rate, true positive rate, and thresholds\n",
    "fpr, tpr, thresholds = roc_curve(y_test, y_scores)\n",
    "\n",
    "# Calculate the area under the ROC curve (AUC)\n",
    "roc_auc = roc_auc_score(y_test, y_scores)\n",
    "\n",
    "# Plot the ROC curve\n",
    "plt.figure()\n",
    "plt.plot(fpr, tpr, label='ROC curve (AUC = %0.2f)' % roc_auc)\n",
    "plt.plot([0, 1], [0, 1], 'k--')  # Plot the diagonal line\n",
    "plt.xlim([0.0, 1.0])\n",
    "plt.ylim([0.0, 1.05])\n",
    "plt.xlabel('False Positive Rate (1 - Specificity)')\n",
    "plt.ylabel('True Positive Rate (Sensitivity)')\n",
    "plt.title('Receiver Operating Characteristic (ROC)')\n",
    "plt.legend(loc=\"lower right\")\n",
    "plt.show()"
   ]
  },
  {
   "cell_type": "raw",
   "id": "e787cc6e",
   "metadata": {},
   "source": [
    "An ROC curve with an area under the curve (AUC) of 0.82 indicates that the binary classification model has good discriminatory power and performs well in distinguishing between the positive and negative classes."
   ]
  },
  {
   "cell_type": "code",
   "execution_count": 51,
   "id": "9c052024",
   "metadata": {},
   "outputs": [],
   "source": [
    "# pickle to import pickle file for deploy of ml model on stramlit or pn flask\n",
    "import pickle\n",
    "file=open('Naive_bayes_model.pkl','wb')\n",
    "pickle.dump(model, file)"
   ]
  },
  {
   "cell_type": "code",
   "execution_count": null,
   "id": "baafe44d",
   "metadata": {},
   "outputs": [],
   "source": []
  }
 ],
 "metadata": {
  "kernelspec": {
   "display_name": "Python 3 (ipykernel)",
   "language": "python",
   "name": "python3"
  },
  "language_info": {
   "codemirror_mode": {
    "name": "ipython",
    "version": 3
   },
   "file_extension": ".py",
   "mimetype": "text/x-python",
   "name": "python",
   "nbconvert_exporter": "python",
   "pygments_lexer": "ipython3",
   "version": "3.9.13"
  }
 },
 "nbformat": 4,
 "nbformat_minor": 5
}
